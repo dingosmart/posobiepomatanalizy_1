{
  "cells": [
    {
      "cell_type": "markdown",
      "metadata": {
        "id": "view-in-github",
        "colab_type": "text"
      },
      "source": [
        "<a href=\"https://colab.research.google.com/github/dingosmart/posobiepomatanalizy_1/blob/main/zadanie_1_2_1.ipynb\" target=\"_parent\"><img src=\"https://colab.research.google.com/assets/colab-badge.svg\" alt=\"Open In Colab\"/></a>"
      ]
    },
    {
      "cell_type": "markdown",
      "metadata": {
        "id": "Lp7Zj4Lqofgq"
      },
      "source": [
        "Задание данн элипс 4*x*x+36 y*у=144,\n",
        "    Задание: найти полуоси, фокусы,эксцентриситет, уравнение деректрис.\n",
        "   "
      ]
    },
    {
      "cell_type": "markdown",
      "metadata": {
        "id": "iRwxr1i8ofg3"
      },
      "source": [
        "      Для решения задания на компьютере следует выполнить несколько последовательных \n",
        "      процедур и действий , которые приведут вас к решению, обычно этот процесс называют програмированием.,\n",
        "    В рамках процесса составления программы надо решать сразу несколько задач:\n",
        "    \n",
        "    Это понять каки формулы мы будеем использовать. \n",
        "    Какие переменные будут входить в эти формулы. \n",
        "    Какие у них значения и пределы измерения. Можно ли их запрограмировать с помощью языка Python?\n",
        "    \n",
        "    Какие мы буем использовать  библеотеки програного кода для вычисления, отображения результатов и\n",
        "    их сохранения. Как будем задавать исходные данные , будем ли мы их вводить вручную или считывать из файла.\n",
        "    И, надо понимать, что это только часть вопросов которые возникают перед начинающим програмистом который \n",
        "    собирается програмировать решение математических ( в частности геометрических) задач."
      ]
    },
    {
      "cell_type": "markdown",
      "metadata": {
        "id": "UTsT2-Lzofg6"
      },
      "source": [
        "Подключим необходимые библиотеки , их названия подскажут, для чего нужна та или иная библиотека."
      ]
    },
    {
      "cell_type": "code",
      "execution_count": null,
      "metadata": {
        "id": "FMNqkHWxofg7"
      },
      "outputs": [],
      "source": [
        "from IPython.display import display, Math, Latex\n"
      ]
    },
    {
      "cell_type": "code",
      "execution_count": null,
      "metadata": {
        "id": "2cjhCZkqofg9"
      },
      "outputs": [],
      "source": [
        "import math"
      ]
    },
    {
      "cell_type": "markdown",
      "metadata": {
        "id": "oFVsScGoofg9"
      },
      "source": [
        "В нашем уровнеие есть два явных неизвестных X и Y\n",
        "    И из теории , мы знаем  , что нам надо расчитать переменные\n",
        "    a-большая полуось\n",
        "    b-малая полуось\n",
        "    \n",
        "    Для начала надо вспомнить , что каноническая уравнение элипса\n",
        "    X`2/a`2 + y`2/b`2=1  (можно в Latex переписать)\n",
        "    \n",
        "     Откуда мы видим \n",
        "        a`2=36 \n",
        "        b`2=4\n",
        "        \n",
        "        \n",
        "         Интуитивно понятно, что нам надо извлечь корень. \n",
        "    В програмирование это делается через операции присвоения.\n",
        "    Мы объявляем переменную и затем присваиваем ей, вычисляемое значение.\n",
        "    \n",
        "    Для програмирования мы испоьзуем латинские обозначения, то есть английский язык.\n",
        "    Это могут быть любые подходящие по смыслу нам буквы латинского алфавита: A,B,C,D and etc\n",
        "        \n",
        "    введем обозначение для переменных которые будут хранить квадраты чисел \n",
        "       "
      ]
    },
    {
      "cell_type": "code",
      "execution_count": null,
      "metadata": {
        "id": "Fgo8wXvOofg-"
      },
      "outputs": [],
      "source": [
        " A_2=36\n",
        " B_2=4 "
      ]
    },
    {
      "cell_type": "markdown",
      "metadata": {
        "id": "mtPxf8wrofg_"
      },
      "source": [
        "Произведем необходимые вычисления корней"
      ]
    },
    {
      "cell_type": "code",
      "execution_count": null,
      "metadata": {
        "id": "60n6nRXCofhA"
      },
      "outputs": [],
      "source": [
        "a=math.sqrt(A_2)\n",
        "b=math.sqrt(B_2)"
      ]
    },
    {
      "cell_type": "markdown",
      "metadata": {
        "id": "Lq1DQPJ3ofhB"
      },
      "source": [
        " Но мало вычислить значения, их еще надо вывести на экран специальным образом"
      ]
    },
    {
      "cell_type": "code",
      "execution_count": null,
      "metadata": {
        "colab": {
          "base_uri": "https://localhost:8080/"
        },
        "id": "AnjpYJY5ofhC",
        "outputId": "4f319d5d-bdb0-4fc1-e0fc-dd0ea933bce9"
      },
      "outputs": [
        {
          "output_type": "stream",
          "name": "stdout",
          "text": [
            "Квадратный корень из числа A_2 36 это 6.0\n",
            "Квадратный корень из числа B_2 4 это 2.0\n"
          ]
        }
      ],
      "source": [
        "print(\"Квадратный корень из числа A_2 \" + str(A_2) + \" это \" + str(a))\n",
        "print(\"Квадратный корень из числа B_2 \" + str(B_2) + \" это \" + str(b))"
      ]
    },
    {
      "cell_type": "markdown",
      "metadata": {
        "id": "Odb1E96NofhE"
      },
      "source": [
        "Мы здесь кроме вывода, так же преобразовали  число в символьную информацию, \n",
        "      которую можем вывести на экран. По началу, такой процесс кажется громоздким,\n",
        "      но по мере выполнения заданий, вы привыкните к этому и вы сможете понимать,\n",
        "      как создают программы другие программисты."
      ]
    },
    {
      "cell_type": "markdown",
      "metadata": {
        "id": "x9mdy32hofhE"
      },
      "source": [
        "Найдем , похожим образом растояние от центра элипса , опять через объявление , \n",
        "          а затем вычисление ее значения. используя формулу C`2 = a`2-b`2\n",
        "          "
      ]
    },
    {
      "cell_type": "code",
      "execution_count": null,
      "metadata": {
        "colab": {
          "base_uri": "https://localhost:8080/"
        },
        "id": "6kFtWcqxofhF",
        "outputId": "7bf76563-5359-4b76-e1a3-c1b8a3c83cbb"
      },
      "outputs": [
        {
          "output_type": "stream",
          "name": "stdout",
          "text": [
            "с= 5.656854249492381\n"
          ]
        }
      ],
      "source": [
        "с=4*math.sqrt(2)\n",
        "print(\"с= \" +  str(с))"
      ]
    },
    {
      "cell_type": "markdown",
      "metadata": {
        "id": "CxYEWC03ofhF"
      },
      "source": [
        "Настало время вычислить  другие харатеристики элипса,\n",
        "      это фокусы, давайте обозначим их через две новые перемнные F1 и F2"
      ]
    },
    {
      "cell_type": "code",
      "execution_count": null,
      "metadata": {
        "colab": {
          "base_uri": "https://localhost:8080/"
        },
        "id": "RFavyfz5ofhG",
        "outputId": "b1c248c6-4e0d-41dc-9ab8-854963a88c8f"
      },
      "outputs": [
        {
          "output_type": "stream",
          "name": "stdout",
          "text": [
            "Фокус элипса f1=-9.797958971132712\n"
          ]
        }
      ],
      "source": [
        "f1=-4*math.sqrt(a)\n",
        "print(\"Фокус элипса f1=\" +   str(f1))"
      ]
    },
    {
      "cell_type": "code",
      "execution_count": null,
      "metadata": {
        "colab": {
          "base_uri": "https://localhost:8080/"
        },
        "id": "0A34hbQyofhG",
        "outputId": "ff7f33ab-c846-4ece-d8e6-0720f28fa509"
      },
      "outputs": [
        {
          "output_type": "stream",
          "name": "stdout",
          "text": [
            "Фокус элипса f2=9.797958971132712\n"
          ]
        }
      ],
      "source": [
        "f2=4*math.sqrt(a)\n",
        "print(\"Фокус элипса f2=\" +   str(f2))"
      ]
    },
    {
      "cell_type": "markdown",
      "metadata": {
        "id": "mK5j_nHbofhH"
      },
      "source": [
        "Нам уже известны величины <c> и <а> , из них мы можем расчитать  эксцентриситет.\n",
        "    Величину отстаяния фокусов  от центра кривой.\n",
        "  Для этого введем переменную e и присвоем ей вычисляемой значение"
      ]
    },
    {
      "cell_type": "code",
      "execution_count": null,
      "metadata": {
        "colab": {
          "base_uri": "https://localhost:8080/"
        },
        "id": "cZEUIJEvofhH",
        "outputId": "922b7ea7-61a6-43ee-b13e-efe773938a96"
      },
      "outputs": [
        {
          "output_type": "stream",
          "name": "stdout",
          "text": [
            "Экцентриситет E=0.9428090415820635\n"
          ]
        }
      ],
      "source": [
        "e=с/a\n",
        "print(\"Экцентриситет E=\" +str(e))"
      ]
    },
    {
      "cell_type": "markdown",
      "metadata": {
        "id": "mDPJPsLKofhH"
      },
      "source": [
        "У нас теперь имеются почти все значения для вычисления главных наших неизвестных x1  и x2\n",
        "x1=-a/e   \n",
        "x2= a/e"
      ]
    },
    {
      "cell_type": "code",
      "execution_count": null,
      "metadata": {
        "colab": {
          "base_uri": "https://localhost:8080/"
        },
        "id": "eGer7BA4ofhI",
        "outputId": "08aa4c8c-5b95-4eac-e6eb-0bd71a9a6983"
      },
      "outputs": [
        {
          "output_type": "stream",
          "name": "stdout",
          "text": [
            "Директриса  элипса X1=-6.363961030678927\n",
            "Директриса  элипса X2=6.363961030678927\n"
          ]
        }
      ],
      "source": [
        "x1=-a/e   \n",
        "x2= a/e\n",
        "print(\"Директриса  элипса X1=\" +   str(x1))\n",
        "print(\"Директриса  элипса X2=\" +   str(x2))"
      ]
    },
    {
      "cell_type": "markdown",
      "metadata": {
        "id": "xH2eIERjofhJ"
      },
      "source": [
        "Выведем теперь все данные в одном месте."
      ]
    },
    {
      "cell_type": "code",
      "execution_count": null,
      "metadata": {
        "colab": {
          "base_uri": "https://localhost:8080/"
        },
        "id": "-AHuijYSofhJ",
        "outputId": "e6072c36-af14-4124-c324-83791700d961"
      },
      "outputs": [
        {
          "output_type": "stream",
          "name": "stdout",
          "text": [
            "Ответ: \n",
            "a=    6.000\n",
            "b=    2.000\n",
            "c=    5.657\n",
            "F1=   -9.798\n",
            "F2=    9.798\n",
            "E=    0.943\n",
            "d1=   -6.364\n",
            "d2=    6.364\n"
          ]
        }
      ],
      "source": [
        "print(\"Ответ: \")\n",
        "print(\"a={:9.3f}\".format(a))\n",
        "print(\"b={:9.3f}\".format(b))\n",
        "print(\"c={:9.3f}\".format(с))\n",
        "print(\"F1={:9.3f}\".format(f1))\n",
        "print(\"F2={:9.3f}\".format(f2))\n",
        "print(\"E={:9.3f}\".format(e))\n",
        "print(\"d1={:9.3f}\".format(x1))\n",
        "print(\"d2={:9.3f}\".format(x2))"
      ]
    },
    {
      "cell_type": "code",
      "execution_count": null,
      "metadata": {
        "id": "7U0InGmNofhK"
      },
      "outputs": [],
      "source": []
    }
  ],
  "metadata": {
    "kernelspec": {
      "display_name": "Python 3",
      "language": "python",
      "name": "python3"
    },
    "language_info": {
      "codemirror_mode": {
        "name": "ipython",
        "version": 3
      },
      "file_extension": ".py",
      "mimetype": "text/x-python",
      "name": "python",
      "nbconvert_exporter": "python",
      "pygments_lexer": "ipython3",
      "version": "3.8.5"
    },
    "colab": {
      "provenance": [],
      "include_colab_link": true
    }
  },
  "nbformat": 4,
  "nbformat_minor": 0
}